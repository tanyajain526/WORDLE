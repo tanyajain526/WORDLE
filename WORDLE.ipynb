{
 "cells": [
  {
   "cell_type": "markdown",
   "id": "ff8b1ba5",
   "metadata": {},
   "source": [
    "### Variation 1: Using Lists"
   ]
  },
  {
   "cell_type": "code",
   "execution_count": null,
   "id": "a7b1aa36",
   "metadata": {
    "scrolled": false
   },
   "outputs": [
    {
     "data": {
      "text/html": [
       "<pre style=\"white-space:pre;overflow-x:auto;line-height:normal;font-family:Menlo,'DejaVu Sans Mono',consolas,'Courier New',monospace\">\n",
       "Guess <span style=\"color: #008080; text-decoration-color: #008080; font-weight: bold\">5</span> letter words one at a time to guess the game word.\n",
       "    \n",
       "    🟩 character means a letter was guessed correctly\n",
       "    in the correct position.\n",
       "    🟨 character means a letter was guessed correctly,\n",
       "    but in the incorrect position.\n",
       "    ⬛ Incorrect letter.\n",
       "    \n",
       "    To quit, enter <span style=\"color: #008000; text-decoration-color: #008000\">'q'</span>.\n",
       "\n",
       "</pre>\n"
      ],
      "text/plain": [
       "\n",
       "Guess \u001b[1;36m5\u001b[0m letter words one at a time to guess the game word.\n",
       "    \n",
       "    🟩 character means a letter was guessed correctly\n",
       "    in the correct position.\n",
       "    🟨 character means a letter was guessed correctly,\n",
       "    but in the incorrect position.\n",
       "    ⬛ Incorrect letter.\n",
       "    \n",
       "    To quit, enter \u001b[32m'q'\u001b[0m.\n",
       "\n"
      ]
     },
     "metadata": {},
     "output_type": "display_data"
    },
    {
     "data": {
      "text/html": [
       "<pre style=\"white-space:pre;overflow-x:auto;line-height:normal;font-family:Menlo,'DejaVu Sans Mono',consolas,'Courier New',monospace\">⬛ ⬛ ⬛ ⬛ ⬛\n",
       "</pre>\n"
      ],
      "text/plain": [
       "⬛ ⬛ ⬛ ⬛ ⬛\n"
      ]
     },
     "metadata": {},
     "output_type": "display_data"
    },
    {
     "data": {
      "text/html": [
       "<pre style=\"white-space:pre;overflow-x:auto;line-height:normal;font-family:Menlo,'DejaVu Sans Mono',consolas,'Courier New',monospace\">Guess:: </pre>\n"
      ],
      "text/plain": [
       "Guess:: "
      ]
     },
     "metadata": {},
     "output_type": "display_data"
    },
    {
     "name": "stdout",
     "output_type": "stream",
     "text": [
      "water\n"
     ]
    },
    {
     "data": {
      "text/html": [
       "<pre style=\"white-space:pre;overflow-x:auto;line-height:normal;font-family:Menlo,'DejaVu Sans Mono',consolas,'Courier New',monospace\">⬛ 🟨 ⬛ ⬛ ⬛\n",
       "</pre>\n"
      ],
      "text/plain": [
       "⬛ 🟨 ⬛ ⬛ ⬛\n"
      ]
     },
     "metadata": {},
     "output_type": "display_data"
    },
    {
     "data": {
      "text/html": [
       "<pre style=\"white-space:pre;overflow-x:auto;line-height:normal;font-family:Menlo,'DejaVu Sans Mono',consolas,'Courier New',monospace\">Guess:: </pre>\n"
      ],
      "text/plain": [
       "Guess:: "
      ]
     },
     "metadata": {},
     "output_type": "display_data"
    },
    {
     "name": "stdout",
     "output_type": "stream",
     "text": [
      "scam\n",
      "Guess must be of length 5\n"
     ]
    },
    {
     "data": {
      "text/html": [
       "<pre style=\"white-space:pre;overflow-x:auto;line-height:normal;font-family:Menlo,'DejaVu Sans Mono',consolas,'Courier New',monospace\">Guess:: </pre>\n"
      ],
      "text/plain": [
       "Guess:: "
      ]
     },
     "metadata": {},
     "output_type": "display_data"
    },
    {
     "name": "stdout",
     "output_type": "stream",
     "text": [
      "gfhvf\n",
      "Guess must be a valid word\n"
     ]
    },
    {
     "data": {
      "text/html": [
       "<pre style=\"white-space:pre;overflow-x:auto;line-height:normal;font-family:Menlo,'DejaVu Sans Mono',consolas,'Courier New',monospace\">Guess:: </pre>\n"
      ],
      "text/plain": [
       "Guess:: "
      ]
     },
     "metadata": {},
     "output_type": "display_data"
    },
    {
     "name": "stdout",
     "output_type": "stream",
     "text": [
      "cream\n"
     ]
    },
    {
     "data": {
      "text/html": [
       "<pre style=\"white-space:pre;overflow-x:auto;line-height:normal;font-family:Menlo,'DejaVu Sans Mono',consolas,'Courier New',monospace\">⬛ ⬛ ⬛ 🟨 ⬛\n",
       "</pre>\n"
      ],
      "text/plain": [
       "⬛ ⬛ ⬛ 🟨 ⬛\n"
      ]
     },
     "metadata": {},
     "output_type": "display_data"
    },
    {
     "data": {
      "text/html": [
       "<pre style=\"white-space:pre;overflow-x:auto;line-height:normal;font-family:Menlo,'DejaVu Sans Mono',consolas,'Courier New',monospace\">Guess:: </pre>\n"
      ],
      "text/plain": [
       "Guess:: "
      ]
     },
     "metadata": {},
     "output_type": "display_data"
    },
    {
     "name": "stdout",
     "output_type": "stream",
     "text": [
      "anime\n"
     ]
    },
    {
     "data": {
      "text/html": [
       "<pre style=\"white-space:pre;overflow-x:auto;line-height:normal;font-family:Menlo,'DejaVu Sans Mono',consolas,'Courier New',monospace\">🟩 🟨 🟩 ⬛ ⬛\n",
       "</pre>\n"
      ],
      "text/plain": [
       "🟩 🟨 🟩 ⬛ ⬛\n"
      ]
     },
     "metadata": {},
     "output_type": "display_data"
    },
    {
     "data": {
      "text/html": [
       "<pre style=\"white-space:pre;overflow-x:auto;line-height:normal;font-family:Menlo,'DejaVu Sans Mono',consolas,'Courier New',monospace\">Guess:: </pre>\n"
      ],
      "text/plain": [
       "Guess:: "
      ]
     },
     "metadata": {},
     "output_type": "display_data"
    },
    {
     "name": "stdout",
     "output_type": "stream",
     "text": [
      "amino\n"
     ]
    },
    {
     "data": {
      "text/html": [
       "<pre style=\"white-space:pre;overflow-x:auto;line-height:normal;font-family:Menlo,'DejaVu Sans Mono',consolas,'Courier New',monospace\">🟩 ⬛ 🟩 🟩 ⬛\n",
       "</pre>\n"
      ],
      "text/plain": [
       "🟩 ⬛ 🟩 🟩 ⬛\n"
      ]
     },
     "metadata": {},
     "output_type": "display_data"
    },
    {
     "data": {
      "text/html": [
       "<pre style=\"white-space:pre;overflow-x:auto;line-height:normal;font-family:Menlo,'DejaVu Sans Mono',consolas,'Courier New',monospace\">Guess:: </pre>\n"
      ],
      "text/plain": [
       "Guess:: "
      ]
     },
     "metadata": {},
     "output_type": "display_data"
    },
    {
     "name": "stdout",
     "output_type": "stream",
     "text": [
      "aling\n",
      "Guess must be a valid word\n"
     ]
    },
    {
     "data": {
      "text/html": [
       "<pre style=\"white-space:pre;overflow-x:auto;line-height:normal;font-family:Menlo,'DejaVu Sans Mono',consolas,'Courier New',monospace\">Guess:: </pre>\n"
      ],
      "text/plain": [
       "Guess:: "
      ]
     },
     "metadata": {},
     "output_type": "display_data"
    }
   ],
   "source": [
    "from rich.prompt import Prompt\n",
    "from rich.console import Console\n",
    "from random import choice\n",
    "import random\n",
    "import typing\n",
    "import sys\n",
    "\n",
    "SQUARES = {\n",
    "    'correct_place': '🟩',\n",
    "    'correct_letter': '🟨',\n",
    "    'incorrect_letter': '⬛'\n",
    "}\n",
    "\n",
    "GAMEWORD_LIST_FNAME = \"gamewords.txt\"\n",
    "GUESSWORD_LIST_FNAME = \"guesswords.txt\"\n",
    "\n",
    "\n",
    "def filter_word(word: str, length: int) -> typing.Optional[str]:\n",
    "#Filter a word to add it to the wordlist\n",
    "    if len(word.strip()) == length:\n",
    "        return word.strip().upper()\n",
    "    return None\n",
    "\n",
    "\n",
    "def create_wordlist(fname: str, length: int) -> typing.List[str]:\n",
    "#create a wordlist\n",
    "    with open(fname, \"r\") as f:\n",
    "        lines = f.readlines()\n",
    "\n",
    "    # Filter out none values before creating the word list\n",
    "    return [word for word in map(lambda word: filter_word(word, length), lines) if word is not None]\n",
    "\n",
    "\n",
    "def validate(guess: str, wordlen: int, wordlist: typing.List[str]) -> typing.Tuple[str, str]:\n",
    "#Validate a guess from a user.\n",
    "# make sure the guess is all upper case to create uniformity with wordlist\n",
    "    guess_upper = guess.upper()\n",
    "    if guess_upper == 'Q':\n",
    "            print(f\"You quit - the correct answer was {WORD.upper()} and you took {NUM_GUESSES} guesses\")\n",
    "            return None, guess_upper\n",
    "\n",
    "    if len(guess_upper) != wordlen:\n",
    "        return f\"Guess must be of length {wordlen}\", guess_upper\n",
    "\n",
    "    # guesses must also be words from the word list\n",
    "    if guess_upper not in wordlist:\n",
    "        return \"Guess must be a valid word\", guess_upper\n",
    "    return None, guess_upper\n",
    "\n",
    "\n",
    "def get_user_guess(wordlen: int, wordlist: typing.List[str]) -> str:\n",
    "#get input,validate and return\n",
    "    # continue looping until you get a valid guess\n",
    "    while True:\n",
    "        guess = Prompt.ask(\"Guess:\")\n",
    "        error, guess = validate(guess=guess, wordlen=wordlen,\n",
    "                                wordlist=wordlist)\n",
    "        if error is None:\n",
    "            break\n",
    "\n",
    "#show the input error \n",
    "        print(error)\n",
    "    return guess\n",
    "\n",
    "\n",
    "def find_all_char_positions(word: str, char: str) -> typing.List[int]:\n",
    "#find all the indices of that character\n",
    "    positions = []\n",
    "    pos = word.find(char)\n",
    "    while pos != -1:\n",
    "        positions.append(pos)\n",
    "        pos = word.find(char, pos + 1)\n",
    "    return positions\n",
    "\n",
    "\n",
    "def compare(expected: str, guess: str) -> typing.List[str]:\n",
    "#Compare the guess with the expected word \n",
    "# the output is incorrect to start,\n",
    "# and as we progress through the checking, update each position in output list\n",
    "    \n",
    "    output = [SQUARES['incorrect_letter']] * len(expected)\n",
    "    counted_pos = []\n",
    "\n",
    "#check for correct words in the correct positions\n",
    "#update output\n",
    "    for index, (expected_char, guess_char) in enumerate(zip(expected, guess)):\n",
    "        if expected_char == guess_char:\n",
    "#correct character in the correct position\n",
    "            output[index] = SQUARES['correct_place']\n",
    "            counted_pos.append(index)\n",
    "\n",
    "# now we check for the remaining letters that are in incorrect\n",
    "    for index, guess_char in enumerate(guess):\n",
    "        \n",
    "        if guess_char in expected and \\\n",
    "                index not in counted_pos:\n",
    "#all the positions the guessed\n",
    "# character is present or not\n",
    "            positions = find_all_char_positions(word=expected, char=guess_char)\n",
    "            # have we accounted for all the positions\n",
    "            for pos in positions:\n",
    "                # if we have not accounted for the correct\n",
    "                if pos not in counted_pos:\n",
    "                    output[index] = SQUARES['correct_letter']\n",
    "                    counted_pos.append(pos)\n",
    "                    # we only count the \"correct letter\" once,\n",
    "\n",
    "                    break\n",
    "    #return the list\n",
    "    return output\n",
    "\n",
    "\n",
    "if __name__ == '__main__':\n",
    "# the game word is 5 letters\n",
    "    WORDLEN = 5\n",
    " #load the wordlist\n",
    "    GAMEWORD_WORDLIST = create_wordlist(\n",
    "        GAMEWORD_LIST_FNAME, length=WORDLEN)\n",
    "\n",
    "# load the wordlist for the guesses\n",
    "    GUESSWORD_WORDLIST = create_wordlist(\n",
    "        GUESSWORD_LIST_FNAME, length=WORDLEN)\n",
    "\n",
    "# set the maximum number of guesses\n",
    "    MAX_GUESSES = 6\n",
    "\n",
    "    continue_game = True  # Flag to control whether to continue the game\n",
    "\n",
    "    while continue_game:  # Start a new loop\n",
    "        # Reset the number of guesses for each new game\n",
    "        NUM_GUESSES = 0\n",
    "\n",
    "#select a random word to start with\n",
    "        WORD = random.choice(GAMEWORD_WORDLIST)\n",
    "        GAME_WORD_LENGTH = len(WORD)\n",
    "\n",
    "#game instructions\n",
    "        console = Console()\n",
    "        console.print(\"\"\"\n",
    "Guess 5 letter words one at a time to guess the game word.\n",
    "    \n",
    "    🟩 character means a letter was guessed correctly\n",
    "    in the correct position.\n",
    "    🟨 character means a letter was guessed correctly,\n",
    "    but in the incorrect position.\n",
    "    ⬛ Incorrect letter.\n",
    "    \n",
    "    To quit, enter 'q'.\n",
    "\"\"\")\n",
    "\n",
    "        console.print(\" \".join([SQUARES['incorrect_letter']] * GAME_WORD_LENGTH))\n",
    "\n",
    "        try:\n",
    "            while NUM_GUESSES < MAX_GUESSES:\n",
    "#get a user guess\n",
    "                GUESS = get_user_guess(\n",
    "                    wordlen=GAME_WORD_LENGTH, wordlist=GUESSWORD_WORDLIST)\n",
    "\n",
    "                if GUESS == 'Q':  # quitting situation\n",
    "                    user_decision = input(\"Do you want to play again? (y/n): \").strip().lower()\n",
    "                    if user_decision.lower() == 'y':\n",
    "                        #Start a new game\n",
    "                        WORD = random.choice(GAMEWORD_WORDLIST)\n",
    "                        GAME_WORD_LENGTH = len(WORD)\n",
    "                        NUM_GUESSES = 0\n",
    "                        console.print(\" \".join([SQUARES['incorrect_letter']] * GAME_WORD_LENGTH))\n",
    "                        continue\n",
    "                    else:\n",
    "                        continue_game = False  #Exit the game loop\n",
    "                        break\n",
    "                else:\n",
    "                    NUM_GUESSES += 1\n",
    "\n",
    "                # display the guess \n",
    "                result = compare(expected=WORD, guess=GUESS)\n",
    "                console.print(\" \".join(result))\n",
    "\n",
    "                if WORD == GUESS:\n",
    "                    console.print(f\"You won! It took you {NUM_GUESSES} guesses.\")\n",
    "                    break\n",
    "\n",
    "            if NUM_GUESSES == MAX_GUESSES:\n",
    "                console.print(f\"Sorry, you reached the maximum number of guesses. The correct answer was {WORD.upper()}.\")\n",
    "\n",
    "        except KeyboardInterrupt:\n",
    "            console.print(f\"\"\"\n",
    "You quit - the correct answer was {WORD.upper()}\n",
    "and you took {NUM_GUESSES} guesses\n",
    "\"\"\")\n",
    "\n",
    "        if continue_game:\n",
    "            # Prompt the user to continue the game\n",
    "            continue_game = input(\"Do you want to play again? (y/n): \").strip().lower() == 'y'  \n",
    "    print(\"Thanks for playing!\")  "
   ]
  },
  {
   "cell_type": "markdown",
   "id": "912234f8",
   "metadata": {},
   "source": [
    "Wordlist Creation (create_wordlist):\n",
    "Time Complexity: O(n * m), where n is the number of words in the file and m is the average length of each word.\n",
    "\n",
    "Validation (validate function):\n",
    "Time Complexity: O(n), where n is the length of the wordlist. \n",
    "\n",
    "User Input and Guess Comparison (get_user_guess and compare functions):\n",
    "Both functions involve iterating over the characters of the guessed word and the expected word. The length of the words (WORDLEN) determines the maximum iterations. Thus, the time complexity is O(WORDLEN).\n",
    "\n",
    "Main Loop:\n",
    "The main loop iterates for a maximum of MAX_GUESSES times. Within each iteration, user input is taken and compared, so the time complexity of the loop is O(MAX_GUESSES * WORDLEN).\n",
    "\n",
    "Overall, the time complexity of the program is dominated by the main loop, making it O(MAX_GUESSES * WORDLEN).\n",
    "\n",
    "\n",
    "Space Complexity: \n",
    "O(n * m), where n is the number of words in the file and m is the average length of each word. Both lists store all the words from the corresponding files.\n",
    "The space complexity for other variables is minimal and can be considered constant, not affecting the overall space complexity significantly."
   ]
  },
  {
   "cell_type": "markdown",
   "id": "949065e1",
   "metadata": {},
   "source": [
    "### Variation 2: Using Sets"
   ]
  },
  {
   "cell_type": "code",
   "execution_count": null,
   "id": "684ecd6b",
   "metadata": {
    "scrolled": false
   },
   "outputs": [],
   "source": [
    "from rich.prompt import Prompt\n",
    "from rich.console import Console\n",
    "import random\n",
    "import typing\n",
    "\n",
    "SQUARES = {\n",
    "    'correct_place': '🟩',\n",
    "    'correct_letter': '🟨',\n",
    "    'incorrect_letter': '⬛'\n",
    "}\n",
    "\n",
    "GAMEWORD_LIST_FNAME = \"gamewords.txt\"\n",
    "GUESSWORD_LIST_FNAME = \"guesswords.txt\"\n",
    "\n",
    "WORD = \"\"  \n",
    "\n",
    "def filter_word(word: str, length: int) -> typing.Optional[str]:\n",
    "    return word.strip().upper() if len(word.strip()) == length else None\n",
    "\n",
    "def create_wordset(fname: str, length: int) -> typing.Set[str]:\n",
    "    with open(fname, \"r\") as f:\n",
    "        lines = f.readlines()\n",
    "    return {word for word in map(lambda word: filter_word(word, length), lines) if word}\n",
    "\n",
    "def get_user_guess(wordlen: int, wordset: typing.Set[str]) -> str:\n",
    "    while True:\n",
    "        guess = Prompt.ask(\"Guess:\")\n",
    "        guess_upper = guess.upper()\n",
    "        if guess_upper == 'Q':\n",
    "            return guess_upper\n",
    "        if len(guess_upper) != wordlen or guess_upper not in wordset:\n",
    "            print(f\"Guess must be of length {wordlen} and a valid word\")\n",
    "            continue\n",
    "        return guess_upper\n",
    "\n",
    "def find_all_char_positions(word: str, char: str) -> typing.Set[int]:\n",
    "    positions = set()\n",
    "    pos = word.find(char)\n",
    "    while pos != -1:\n",
    "        positions.add(pos)\n",
    "        pos = word.find(char, pos + 1)\n",
    "    return positions\n",
    "\n",
    "def compare(expected: str, guess: str) -> typing.List[str]:\n",
    "    output = [SQUARES['incorrect_letter']] * len(expected)\n",
    "    counted_pos = set()\n",
    "\n",
    "    for index, (expected_char, guess_char) in enumerate(zip(expected, guess)):\n",
    "        if expected_char == guess_char:\n",
    "            output[index] = SQUARES['correct_place']\n",
    "            counted_pos.add(index)\n",
    "\n",
    "    for index, guess_char in enumerate(guess):\n",
    "        if guess_char in expected and output[index] == SQUARES['incorrect_letter']:\n",
    "            positions = find_all_char_positions(word=expected, char=guess_char)\n",
    "            for pos in positions:\n",
    "                if pos not in counted_pos:\n",
    "                    output[index] = SQUARES['correct_letter']\n",
    "                    counted_pos.add(pos)\n",
    "                    break\n",
    "    return output\n",
    "\n",
    "def main():\n",
    "    global WORD\n",
    "    WORDLEN = 5\n",
    "    GAMEWORD_WORDSET = create_wordset(GAMEWORD_LIST_FNAME, length=WORDLEN)\n",
    "    WORD = random.choice(list(GAMEWORD_WORDSET))\n",
    "    GAME_WORD_LENGTH = len(WORD)\n",
    "    MAX_GUESSES = 6\n",
    "    NUM_GUESSES = 0\n",
    "\n",
    "    console = Console()\n",
    "    console.print(\"\"\"\n",
    "    Guess words one at a time to guess the game word.\n",
    "    \n",
    "    🟩 character means a letter was guessed correctly\n",
    "    in the correct position.\n",
    "    🟨 character means a letter was guessed correctly,\n",
    "    but in the incorrect position.\n",
    "    ⬛ Incorrect letter.\n",
    "    \n",
    "    To quit, enter 'q'.\n",
    "    \"\"\")\n",
    "\n",
    "    console.print(\" \".join(['⬛'] * GAME_WORD_LENGTH))\n",
    "\n",
    "    try:\n",
    "        while NUM_GUESSES < MAX_GUESSES:\n",
    "            GUESS = get_user_guess(wordlen=GAME_WORD_LENGTH, wordset=GAMEWORD_WORDSET)\n",
    "            if GUESS == 'Q':\n",
    "                console.print(f\"You quit - the correct answer was {WORD.upper()} and you took {NUM_GUESSES} guesses\")\n",
    "                break\n",
    "            NUM_GUESSES += 1\n",
    "            result = compare(expected=WORD, guess=GUESS)\n",
    "            console.print(\" \".join(result))\n",
    "\n",
    "            if WORD == GUESS:\n",
    "                console.print(f\"You won! It took you {NUM_GUESSES} guesses.\")\n",
    "                break\n",
    "\n",
    "        if NUM_GUESSES == MAX_GUESSES:\n",
    "            console.print(f\"Sorry, you reached the maximum number of guesses. The correct answer was {WORD.upper()}.\")\n",
    "\n",
    "    except KeyboardInterrupt:\n",
    "        console.print(f\"You quit - the correct answer was {WORD.upper()} and you took {NUM_GUESSES} guesses\")\n",
    "\n",
    "    user_decision = input(\"Do you want to play again? (y/n): \").strip().lower()\n",
    "    if user_decision == 'y':\n",
    "        main() \n",
    "    else:\n",
    "        console.print(\"Thanks for playing!\")\n",
    "\n",
    "if __name__ == '__main__':\n",
    "    main()\n"
   ]
  },
  {
   "cell_type": "markdown",
   "id": "26ab8612",
   "metadata": {},
   "source": [
    "create_wordset:\n",
    "The time complexity is approximately O(n * m),where n is the number of words in the file and m is the average length of the words(as each word needs to be processed to check its length and then added to the set).\n",
    "\n",
    "get_user_guess:Let n be the number of words in the wordset. The time complexity is O(n).\n",
    "\n",
    "find_all_char_positions: Let n be the length of the word. The time complexity is O(n).\n",
    "\n",
    "compare: Let n be the length of the word. The time complexity is O(n).\n",
    "\n",
    "main function: Let m be the maximum number of guesses and n is the number of words in the file. Overall, the time complexity is O(n * m).\n",
    "\n",
    "Space Complexity: O(n * m), where n is the number of words in the file and m is the average length of the words. "
   ]
  },
  {
   "cell_type": "markdown",
   "id": "745cb58c",
   "metadata": {},
   "source": [
    "### Variation 3: Using Tries"
   ]
  },
  {
   "cell_type": "code",
   "execution_count": null,
   "id": "fee8ff56",
   "metadata": {
    "scrolled": false
   },
   "outputs": [],
   "source": [
    "from rich.prompt import Prompt\n",
    "from rich.console import Console\n",
    "import random\n",
    "import typing\n",
    "import sys\n",
    "\n",
    "class TrieNode:\n",
    "    def __init__(self):\n",
    "        self.children = {}\n",
    "        self.is_end_of_word = False\n",
    "\n",
    "SQUARES = {\n",
    "    'correct_place': '🟩',\n",
    "    'correct_letter': '🟨',\n",
    "    'incorrect_letter': '⬛'\n",
    "}\n",
    "\n",
    "GAMEWORD_LIST_FNAME = \"gamewords.txt\"\n",
    "GUESSWORD_LIST_FNAME = \"guesswords.txt\"\n",
    "\n",
    "def filter_word(word: str, length: int) -> typing.Optional[str]:\n",
    "    return word.strip().upper() if len(word.strip()) == length else None\n",
    "\n",
    "def insert_word(root: TrieNode, word: str):\n",
    "    node = root\n",
    "    for char in word:\n",
    "        if char not in node.children:\n",
    "            node.children[char] = TrieNode()\n",
    "        node = node.children[char]\n",
    "    node.is_end_of_word = True\n",
    "\n",
    "def create_word_trie(fname: str, length: int) -> TrieNode:\n",
    "    root = TrieNode()\n",
    "    with open(fname, \"r\") as f:\n",
    "        lines = f.readlines()\n",
    "    for line in lines:\n",
    "        word = filter_word(line, length)\n",
    "        if word:\n",
    "            insert_word(root, word)\n",
    "    return root\n",
    "\n",
    "def get_random_word(root: TrieNode, length: int) -> str:\n",
    "    node = root\n",
    "    while True:\n",
    "        word = \"\"\n",
    "        while len(word) < length:\n",
    "            # Choose a random child\n",
    "            children_chars = list(node.children.keys())\n",
    "            char = random.choice(children_chars)\n",
    "            word += char\n",
    "            node = node.children[char]\n",
    "        if node.is_end_of_word:\n",
    "            return word\n",
    "        else:\n",
    "            # If the word doesn't end here, backtrack and try again\n",
    "            node = root\n",
    "\n",
    "def validate(guess: str, wordlen: int, root: TrieNode) -> typing.Tuple[str, str]:\n",
    "    guess_upper = guess.upper()\n",
    "    if guess_upper == 'Q':\n",
    "        raise KeyboardInterrupt\n",
    "    node = root\n",
    "    for char in guess_upper:\n",
    "        if char not in node.children:\n",
    "            return f\"Guess must be a valid word\", guess_upper\n",
    "        node = node.children[char]\n",
    "    if not node.is_end_of_word:\n",
    "        return f\"Guess must be of length {wordlen} and a valid word\", guess_upper\n",
    "    return None, guess_upper\n",
    "\n",
    "def get_user_guess(wordlen: int, root: TrieNode) -> str:\n",
    "    while True:\n",
    "        guess = Prompt.ask(\"Guess:\")\n",
    "        error, guess = validate(guess=guess, wordlen=wordlen, root=root)\n",
    "        if error is None:\n",
    "            break\n",
    "        print(error)\n",
    "    return guess\n",
    "\n",
    "def find_all_char_positions(word: str, char: str) -> typing.List[int]:\n",
    "    positions = []\n",
    "    pos = word.find(char)\n",
    "    while pos != -1:\n",
    "        positions.append(pos)\n",
    "        pos = word.find(char, pos + 1)\n",
    "    return positions\n",
    "\n",
    "def compare(expected: str, guess: str) -> typing.List[str]:\n",
    "    output = [SQUARES['incorrect_letter']] * len(expected)\n",
    "    counted_pos = set()\n",
    "\n",
    "    for index, (expected_char, guess_char) in enumerate(zip(expected, guess)):\n",
    "        if expected_char == guess_char:\n",
    "            output[index] = SQUARES['correct_place']\n",
    "            counted_pos.add(index)\n",
    "\n",
    "    for index, guess_char in enumerate(guess):\n",
    "        if guess_char in expected and output[index] == SQUARES['incorrect_letter']:\n",
    "            positions = find_all_char_positions(word=expected, char=guess_char)\n",
    "            for pos in positions:\n",
    "                if pos not in counted_pos:\n",
    "                    output[index] = SQUARES['correct_letter']\n",
    "                    counted_pos.add(pos)\n",
    "                    break\n",
    "    return output\n",
    "\n",
    "def main():\n",
    "    while True:\n",
    "        WORDLEN = 5\n",
    "        GAMEWORD_TRIE = create_word_trie(GAMEWORD_LIST_FNAME, length=WORDLEN)\n",
    "        WORD = get_random_word(GAMEWORD_TRIE, WORDLEN)\n",
    "        GAME_WORD_LENGTH = len(WORD)\n",
    "        MAX_GUESSES = 6\n",
    "        NUM_GUESSES = 0\n",
    "\n",
    "        console = Console()\n",
    "        console.print(\"\"\"\n",
    "        Guess words one at a time to guess the game word.\n",
    "        \n",
    "        🟩 character means a letter was guessed correctly\n",
    "        in the correct position.\n",
    "        🟨 character means a letter was guessed correctly,\n",
    "        but in the incorrect position.\n",
    "        ⬛ Incorrect letter.\n",
    "        \n",
    "        To quit, enter 'q'.\n",
    "        \"\"\")\n",
    "\n",
    "        console.print(\" \".join(['⬛'] * GAME_WORD_LENGTH))\n",
    "\n",
    "        try:\n",
    "            while NUM_GUESSES < MAX_GUESSES:\n",
    "                GUESS = get_user_guess(wordlen=GAME_WORD_LENGTH, root=GAMEWORD_TRIE)\n",
    "                NUM_GUESSES += 1\n",
    "                result = compare(expected=WORD, guess=GUESS)\n",
    "                console.print(\" \".join(result))\n",
    "\n",
    "                if WORD == GUESS:\n",
    "                    console.print(f\"You won! It took you {NUM_GUESSES} guesses.\")\n",
    "                    break\n",
    "\n",
    "            if NUM_GUESSES == MAX_GUESSES:\n",
    "                console.print(f\"Sorry, you reached the maximum number of guesses. The correct answer was {WORD.upper()}.\")\n",
    "\n",
    "        except KeyboardInterrupt:\n",
    "            console.print(f\"You quit - the correct answer was {WORD.upper()} and you took {NUM_GUESSES} guesses\")\n",
    "\n",
    "        play_again = Prompt.ask(\"Do you want to play again? (y/n):\")\n",
    "        if play_again.lower() != 'y':\n",
    "            console.print(\"Thanks for playing!\")\n",
    "            break\n",
    "\n",
    "if __name__ == '__main__':\n",
    "    main()\n"
   ]
  },
  {
   "cell_type": "markdown",
   "id": "f6f80424",
   "metadata": {},
   "source": [
    "Time Complexity:\n",
    "\n",
    "create_word_trie and get_random_word: The time complexity of this function is O(n * m) because for each word, we iterate over its characters to insert them into the trie or randomly select a word from the trie, where n is the number of words in the file and m is the average word length.\n",
    "\n",
    "\n",
    "get_user_guess: O(n*(m+m))~ O(n*m) n is the no of words in file and m is the average word length.\n",
    "\n",
    "Space Complexity:\n",
    "\n",
    "Trie data structure: The space complexity of the trie structure depends on the number of nodes it contains. In the worst case, each node may have 26 children, so the space complexity of the trie is O(n * m * 26).\n"
   ]
  }
 ],
 "metadata": {
  "kernelspec": {
   "display_name": "Python 3 (ipykernel)",
   "language": "python",
   "name": "python3"
  },
  "language_info": {
   "codemirror_mode": {
    "name": "ipython",
    "version": 3
   },
   "file_extension": ".py",
   "mimetype": "text/x-python",
   "name": "python",
   "nbconvert_exporter": "python",
   "pygments_lexer": "ipython3",
   "version": "3.11.4"
  }
 },
 "nbformat": 4,
 "nbformat_minor": 5
}
